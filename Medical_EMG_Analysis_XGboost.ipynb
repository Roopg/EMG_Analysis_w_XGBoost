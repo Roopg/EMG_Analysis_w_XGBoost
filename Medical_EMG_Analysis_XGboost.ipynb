{
  "nbformat": 4,
  "nbformat_minor": 0,
  "metadata": {
    "colab": {
      "name": "Medical_EMG_Analysis_XGboost.ipynb",
      "provenance": [],
      "collapsed_sections": [],
      "mount_file_id": "1BswK0-FwjPaZcLLUluUwxFeR53ezsKY_",
      "authorship_tag": "ABX9TyOn+hhFwEr6DS/gx4n/xmsJ",
      "include_colab_link": true
    },
    "kernelspec": {
      "name": "python3",
      "display_name": "Python 3"
    },
    "language_info": {
      "name": "python"
    }
  },
  "cells": [
    {
      "cell_type": "markdown",
      "metadata": {
        "id": "view-in-github",
        "colab_type": "text"
      },
      "source": [
        "<a href=\"https://colab.research.google.com/github/Roopg/EMG_Analysis_w_XGBoost/blob/main/Medical_EMG_Analysis_XGboost.ipynb\" target=\"_parent\"><img src=\"https://colab.research.google.com/assets/colab-badge.svg\" alt=\"Open In Colab\"/></a>"
      ]
    },
    {
      "cell_type": "markdown",
      "source": [
        "\n",
        "This notebook is based on the EMG data analysis -a study conducted by the UC of Irvine in California.\n",
        "Electromyography (EMG) measures muscle response or electrical activity in response to a nerve's stimulation of the muscle. The test is used to help detect neuromuscular abnormalities. During the test, one or more small needles (also called electrodes) are inserted through the skin into the muscle.\n",
        "Possible Use cases for this type of analysis can be- medical diagnosis or build a human-robot interface.\n",
        "\n",
        "Dataset: https://archive.ics.uci.edu/ml/datasets/EMG+Physical+Action+Data+Set\n",
        "\n",
        "Contributed by:\n",
        "Theo Theodoridis\n",
        "School of Computer Science and Electronic Engineering\n",
        "University of Essex\n",
        "\n",
        "Bio Electrical Signals collected from a group of 4 subjects  who were asked to perform specific physical actions in 2 categories- Normal(hugging, standing etc) and Aggressive (kicking, hammering)\n",
        "EMG Signal were collected from the following 8 channels (a channel corresponds to an electrode attached on a muscle)-\n",
        "\n",
        "Muscle: A pair of muscles that corresponds to a segment.\n",
        "- R-Bic: right bicep (C1)\n",
        "- R-Tri: right tricep (C2)\n",
        "- L-Bic: left bicep (C3)\n",
        "- L-Tri: left tricep (C4)\n",
        "- R-Thi: right thigh (C5)\n",
        "- R-Ham: right hamstring (C6)\n",
        "- L-Thi: left thigh (C7)\n",
        "- L-Ham: left hamstring (C8)\n",
        "\n",
        "Each file in the dataset contains in overall 8 columns.\n",
        "\n",
        "- Measurment frequency 10 per ms.\n"
      ],
      "metadata": {
        "id": "B-LIhASzUTH3"
      }
    },
    {
      "cell_type": "code",
      "execution_count": null,
      "metadata": {
        "colab": {
          "base_uri": "https://localhost:8080/"
        },
        "id": "j8Bkjv2kTpox",
        "outputId": "a353f697-9fc6-4be5-bf1a-ec363529fdb2"
      },
      "outputs": [
        {
          "output_type": "stream",
          "name": "stdout",
          "text": [
            "/content/drive/MyDrive/DS_Datasets/EMG Physical Action Data Set.rar: Scheme missing.\n"
          ]
        }
      ],
      "source": [
        "!wget \"/content/drive/MyDrive/DS_Datasets/EMG Physical Action Data Set.rar\" -O EMG_data.rar \n"
      ]
    },
    {
      "cell_type": "code",
      "source": [
        "!unrar x \"/content/drive/MyDrive/DS_Datasets/EMG Physical Action Data Set.rar\" #extracts the rar file to the current folder"
      ],
      "metadata": {
        "id": "Rvq3cVRk8VYe"
      },
      "execution_count": null,
      "outputs": []
    },
    {
      "cell_type": "code",
      "source": [
        "!sudo apt install tree.  # as a superuser(sudo) install \"tree\""
      ],
      "metadata": {
        "colab": {
          "base_uri": "https://localhost:8080/"
        },
        "id": "Zjg3XqdWf9z7",
        "outputId": "804bb69a-829f-4e04-c8c7-da39e45acc3c"
      },
      "execution_count": null,
      "outputs": [
        {
          "output_type": "stream",
          "name": "stdout",
          "text": [
            "Reading package lists... Done\n",
            "Building dependency tree       \n",
            "Reading state information... Done\n",
            "The following package was automatically installed and is no longer required:\n",
            "  libnvidia-common-460\n",
            "Use 'sudo apt autoremove' to remove it.\n",
            "The following NEW packages will be installed:\n",
            "  tree\n",
            "0 upgraded, 1 newly installed, 0 to remove and 42 not upgraded.\n",
            "Need to get 40.7 kB of archives.\n",
            "After this operation, 105 kB of additional disk space will be used.\n",
            "Get:1 http://archive.ubuntu.com/ubuntu bionic/universe amd64 tree amd64 1.7.0-5 [40.7 kB]\n",
            "Fetched 40.7 kB in 1s (72.4 kB/s)\n",
            "debconf: unable to initialize frontend: Dialog\n",
            "debconf: (No usable dialog-like program is installed, so the dialog based frontend cannot be used. at /usr/share/perl5/Debconf/FrontEnd/Dialog.pm line 76, <> line 1.)\n",
            "debconf: falling back to frontend: Readline\n",
            "debconf: unable to initialize frontend: Readline\n",
            "debconf: (This frontend requires a controlling tty.)\n",
            "debconf: falling back to frontend: Teletype\n",
            "dpkg-preconfigure: unable to re-open stdin: \n",
            "Selecting previously unselected package tree.\n",
            "(Reading database ... 155629 files and directories currently installed.)\n",
            "Preparing to unpack .../tree_1.7.0-5_amd64.deb ...\n",
            "Unpacking tree (1.7.0-5) ...\n",
            "Setting up tree (1.7.0-5) ...\n",
            "Processing triggers for man-db (2.8.3-2ubuntu0.1) ...\n"
          ]
        }
      ]
    },
    {
      "cell_type": "markdown",
      "source": [
        "### Visualizing the folder structure for each subject.\n",
        "There are log and corresponing txt files for each activity."
      ],
      "metadata": {
        "id": "QVVwJ1jggnDO"
      }
    },
    {
      "cell_type": "code",
      "source": [
        "!tree \"./EMG Physical Action Data Set/sub1\""
      ],
      "metadata": {
        "colab": {
          "base_uri": "https://localhost:8080/"
        },
        "id": "n4vLIB9AgiKy",
        "outputId": "cea02264-bc28-4352-8229-2b301bcee602"
      },
      "execution_count": null,
      "outputs": [
        {
          "output_type": "stream",
          "name": "stdout",
          "text": [
            "./EMG Physical Action Data Set/sub1\n",
            "├── Aggressive\n",
            "│   ├── log\n",
            "│   │   ├── Elbowing.log\n",
            "│   │   ├── FrontKicking.log\n",
            "│   │   ├── Hamering.log\n",
            "│   │   ├── Headering.log\n",
            "│   │   ├── Kneeing.log\n",
            "│   │   ├── Pulling.log\n",
            "│   │   ├── Punching.log\n",
            "│   │   ├── Pushing.log\n",
            "│   │   ├── SideKicking.log\n",
            "│   │   └── Slapping.log\n",
            "│   └── txt\n",
            "│       ├── Elbowing.txt\n",
            "│       ├── Frontkicking.txt\n",
            "│       ├── Hamering.txt\n",
            "│       ├── Headering.txt\n",
            "│       ├── Kneeing.txt\n",
            "│       ├── Pulling.txt\n",
            "│       ├── Punching.txt\n",
            "│       ├── Pushing.txt\n",
            "│       ├── Sidekicking.txt\n",
            "│       └── Slapping.txt\n",
            "└── Normal\n",
            "    ├── log\n",
            "    │   ├── Bowing.log\n",
            "    │   ├── Clapping.log\n",
            "    │   ├── Handshaking.log\n",
            "    │   ├── Hugging.log\n",
            "    │   ├── Jumping.log\n",
            "    │   ├── Running.log\n",
            "    │   ├── Seating.log\n",
            "    │   ├── Standing.log\n",
            "    │   ├── Walking.log\n",
            "    │   └── Waving.log\n",
            "    └── txt\n",
            "        ├── Bowing.txt\n",
            "        ├── Clapping.txt\n",
            "        ├── Handshaking.txt\n",
            "        ├── Hugging.txt\n",
            "        ├── Jumping.txt\n",
            "        ├── Running.txt\n",
            "        ├── Seating.txt\n",
            "        ├── Standing.txt\n",
            "        ├── Walking.txt\n",
            "        └── Waving.txt\n",
            "\n",
            "6 directories, 40 files\n"
          ]
        }
      ]
    },
    {
      "cell_type": "code",
      "source": [
        "!ls -lrt ./EMG\\ Physical\\ Action\\ Data\\ Set/sub1/Aggressive/txt/"
      ],
      "metadata": {
        "colab": {
          "base_uri": "https://localhost:8080/"
        },
        "id": "qk8-kWNDhQMe",
        "outputId": "7fbc9cdc-5835-42e4-ac3a-dc1b52636e77"
      },
      "execution_count": null,
      "outputs": [
        {
          "output_type": "stream",
          "name": "stdout",
          "text": [
            "total 3768\n",
            "-rw-r--r-- 1 root root 361096 Feb  7  2010 Slapping.txt\n",
            "-rw-r--r-- 1 root root 388912 Feb  7  2010 Sidekicking.txt\n",
            "-rw-r--r-- 1 root root 379428 Feb  7  2010 Pushing.txt\n",
            "-rw-r--r-- 1 root root 379597 Feb  7  2010 Punching.txt\n",
            "-rw-r--r-- 1 root root 387656 Feb  7  2010 Pulling.txt\n",
            "-rw-r--r-- 1 root root 398523 Feb  7  2010 Kneeing.txt\n",
            "-rw-r--r-- 1 root root 350285 Feb  7  2010 Headering.txt\n",
            "-rw-r--r-- 1 root root 402363 Feb  7  2010 Hamering.txt\n",
            "-rw-r--r-- 1 root root 390158 Feb  7  2010 Frontkicking.txt\n",
            "-rw-r--r-- 1 root root 398095 Feb  7  2010 Elbowing.txt\n"
          ]
        }
      ]
    },
    {
      "cell_type": "markdown",
      "source": [
        "### Data from 8 channels/ sensors and each set of 10 readings makes up 1ms"
      ],
      "metadata": {
        "id": "w-lwzjGOf9R1"
      }
    },
    {
      "cell_type": "code",
      "source": [
        "### Printing the data\n",
        "\n",
        "!cat ./EMG\\ Physical\\ Action\\ Data\\ Set/sub1/Aggressive/txt/Slapping.txt"
      ],
      "metadata": {
        "id": "_i3HebAg8Y1M"
      },
      "execution_count": null,
      "outputs": []
    },
    {
      "cell_type": "code",
      "source": [
        "## word count- lines\n",
        "!wc -l ./EMG\\ Physical\\ Action\\ Data\\ Set/sub1/Aggressive/txt/Slapping.txt\n",
        "\n"
      ],
      "metadata": {
        "colab": {
          "base_uri": "https://localhost:8080/"
        },
        "id": "8c7ljkp6hxDA",
        "outputId": "54108afa-68bb-4039-ada9-f57b7ba01c32"
      },
      "execution_count": null,
      "outputs": [
        {
          "output_type": "stream",
          "name": "stdout",
          "text": [
            "9788 ./EMG Physical Action Data Set/sub1/Aggressive/txt/Slapping.txt\n"
          ]
        }
      ]
    },
    {
      "cell_type": "markdown",
      "source": [
        "#### Total lines 9788, so we are capturing a signal for 978 msec (as 10 lines correspond to 1msec) for one activity of one subject."
      ],
      "metadata": {
        "id": "scS0gAAHm5Kz"
      }
    },
    {
      "cell_type": "markdown",
      "source": [
        "GOAL- Data from 8 bio-electrical sensors plugged to a human, if human thinks he will jump, 8 sensors will capture the data and we will \n",
        "\n",
        "Neurobiology- the signals that spike when we think of performing an activity (eg Jump), the same signals spike when we actually perform those activities, i.e jump.We can use this to build a ML model that can PREDICT the activity being perfromed based on the signals and can be used to control robotic motions in the future.\n",
        "\n",
        "We start off by building the dataset- defining features and labels for our machine learning model.\n",
        "\n",
        "Note: for one activity the signals are captured from the start of the activity to the end of the activity. So we will have multiple rows (approx 10K) of signals corresponding to just one activity. Each row is the signal captured in 1/10msec.\n",
        "\n",
        "In bio signal processing , spikes matter, so we can take a max of a chunk of 10 readings in 1 msec. So we apply max operation on every sequential 10 observed values (10 rows) this is also called chunking. So 10 rows are replaced by 1 maximum value, this reduces the dataset size. This forms our X.\n",
        "\n",
        "Class Label (Y) are extracted from the file names(Bowing.txt) by removing the last 4 character."
      ],
      "metadata": {
        "id": "ObUOOrrinpuU"
      }
    },
    {
      "cell_type": "code",
      "source": [
        "#### Creating the machine learning dataset for the data recorded from one person.\n",
        "\n",
        "import os\n",
        "import matplotlib.pyplot as plt\n",
        "import numpy as np\n",
        "import pandas as pd\n",
        "import sklearn \n",
        "\n",
        "actions = {} #defining an empty dictionary for action names and corresponding labels\n",
        "\n",
        "data_dirs = [\"./EMG Physical Action Data Set/sub1/Aggressive/txt\",\n",
        "             \"./EMG Physical Action Data Set/sub1/Normal/txt\"]\n",
        "\n",
        "ind = 0\n",
        "data = pd.DataFrame()\n",
        "\n",
        "for dirs in data_dirs :\n",
        "\n",
        "  for files in os.listdir(dirs):\n",
        "\n",
        "    with open(os.path.join(dirs, files), \"r\") as f:  # from all the files within all the dirs, read the tab separated files.\n",
        "\n",
        "     # Extracting the 8 columns names from filenames\n",
        "      temp = pd.read_csv(f.name,\n",
        "                        sep = \"\\t\",\n",
        "                        header = None, \n",
        "                        names = [\"ch\" + str(i) for i in range(1, 9)] # 8 input channels\n",
        "                        )\n",
        "      \n",
        "      # chunking using Max of every 10 sequential values.\n",
        "      temp_chunked = pd.DataFrame()\n",
        "\n",
        "      for i in range(0, len(temp), 10):\n",
        "        temp_chunked = temp_chunked.append(temp.iloc[i:i+10].max(), ignore_index = True)\n",
        "\n",
        "      # Defining the class labels \n",
        "\n",
        "      labels = [files[:-4] for i in range(len(temp_chunked))] # remove the last 4 characters=\".txt\" from the filename to get the activity name\n",
        "      actions[files[:-4]] = ind # We have about 20 activity classes and they are assigned a numeric labels in the actions dictionary.\n",
        "      temp_chunked[\"Action\"] = labels\n",
        "\n",
        "      # Final Data pro\n",
        "      data = pd.concat([data, temp_chunked])\n",
        "\n",
        "      ind+=1\n",
        "\n",
        "print(actions)"
      ],
      "metadata": {
        "colab": {
          "base_uri": "https://localhost:8080/"
        },
        "id": "zOnJuca7nHlT",
        "outputId": "27c450b1-89fc-4177-d54e-bdfb86d2bc26"
      },
      "execution_count": null,
      "outputs": [
        {
          "output_type": "stream",
          "name": "stdout",
          "text": [
            "{'Kneeing': 0, 'Headering': 1, 'Sidekicking': 2, 'Pushing': 3, 'Frontkicking': 4, 'Elbowing': 5, 'Punching': 6, 'Hamering': 7, 'Pulling': 8, 'Slapping': 9, 'Running': 10, 'Hugging': 11, 'Waving': 12, 'Standing': 13, 'Handshaking': 14, 'Jumping': 15, 'Seating': 16, 'Clapping': 17, 'Bowing': 18, 'Walking': 19}\n"
          ]
        }
      ]
    },
    {
      "cell_type": "markdown",
      "source": [
        "The pandas dataframe for our dataset is now ready."
      ],
      "metadata": {
        "id": "jB7g_F4ewAwK"
      }
    },
    {
      "cell_type": "markdown",
      "source": [
        "### Exploratory data analysis"
      ],
      "metadata": {
        "id": "y01Y4N43v4vK"
      }
    },
    {
      "cell_type": "code",
      "source": [
        "data.head()"
      ],
      "metadata": {
        "colab": {
          "base_uri": "https://localhost:8080/",
          "height": 214
        },
        "id": "E80EUvJNv4Xu",
        "outputId": "1112173f-0972-4b0f-dead-2e0a9d6d9166"
      },
      "execution_count": null,
      "outputs": [
        {
          "output_type": "execute_result",
          "data": {
            "text/plain": [
              "     ch1     ch2    ch3    ch4     ch5     ch6     ch7     ch8   Action\n",
              "0  292.0   647.0  349.0  261.0  4000.0  4000.0  4000.0 -4000.0  Kneeing\n",
              "1  260.0  1256.0  504.0  170.0 -4000.0  4000.0  4000.0  4000.0  Kneeing\n",
              "2  104.0   409.0  764.0  207.0  4000.0  4000.0  4000.0  4000.0  Kneeing\n",
              "3  385.0   786.0  793.0  146.0  4000.0  1033.0  4000.0  4000.0  Kneeing\n",
              "4    8.0  1055.0  215.0  142.0  2569.0 -4000.0  4000.0 -4000.0  Kneeing"
            ],
            "text/html": [
              "\n",
              "  <div id=\"df-c1c5f77d-9d50-4bb5-8722-5dff53de2a8a\">\n",
              "    <div class=\"colab-df-container\">\n",
              "      <div>\n",
              "<style scoped>\n",
              "    .dataframe tbody tr th:only-of-type {\n",
              "        vertical-align: middle;\n",
              "    }\n",
              "\n",
              "    .dataframe tbody tr th {\n",
              "        vertical-align: top;\n",
              "    }\n",
              "\n",
              "    .dataframe thead th {\n",
              "        text-align: right;\n",
              "    }\n",
              "</style>\n",
              "<table border=\"1\" class=\"dataframe\">\n",
              "  <thead>\n",
              "    <tr style=\"text-align: right;\">\n",
              "      <th></th>\n",
              "      <th>ch1</th>\n",
              "      <th>ch2</th>\n",
              "      <th>ch3</th>\n",
              "      <th>ch4</th>\n",
              "      <th>ch5</th>\n",
              "      <th>ch6</th>\n",
              "      <th>ch7</th>\n",
              "      <th>ch8</th>\n",
              "      <th>Action</th>\n",
              "    </tr>\n",
              "  </thead>\n",
              "  <tbody>\n",
              "    <tr>\n",
              "      <th>0</th>\n",
              "      <td>292.0</td>\n",
              "      <td>647.0</td>\n",
              "      <td>349.0</td>\n",
              "      <td>261.0</td>\n",
              "      <td>4000.0</td>\n",
              "      <td>4000.0</td>\n",
              "      <td>4000.0</td>\n",
              "      <td>-4000.0</td>\n",
              "      <td>Kneeing</td>\n",
              "    </tr>\n",
              "    <tr>\n",
              "      <th>1</th>\n",
              "      <td>260.0</td>\n",
              "      <td>1256.0</td>\n",
              "      <td>504.0</td>\n",
              "      <td>170.0</td>\n",
              "      <td>-4000.0</td>\n",
              "      <td>4000.0</td>\n",
              "      <td>4000.0</td>\n",
              "      <td>4000.0</td>\n",
              "      <td>Kneeing</td>\n",
              "    </tr>\n",
              "    <tr>\n",
              "      <th>2</th>\n",
              "      <td>104.0</td>\n",
              "      <td>409.0</td>\n",
              "      <td>764.0</td>\n",
              "      <td>207.0</td>\n",
              "      <td>4000.0</td>\n",
              "      <td>4000.0</td>\n",
              "      <td>4000.0</td>\n",
              "      <td>4000.0</td>\n",
              "      <td>Kneeing</td>\n",
              "    </tr>\n",
              "    <tr>\n",
              "      <th>3</th>\n",
              "      <td>385.0</td>\n",
              "      <td>786.0</td>\n",
              "      <td>793.0</td>\n",
              "      <td>146.0</td>\n",
              "      <td>4000.0</td>\n",
              "      <td>1033.0</td>\n",
              "      <td>4000.0</td>\n",
              "      <td>4000.0</td>\n",
              "      <td>Kneeing</td>\n",
              "    </tr>\n",
              "    <tr>\n",
              "      <th>4</th>\n",
              "      <td>8.0</td>\n",
              "      <td>1055.0</td>\n",
              "      <td>215.0</td>\n",
              "      <td>142.0</td>\n",
              "      <td>2569.0</td>\n",
              "      <td>-4000.0</td>\n",
              "      <td>4000.0</td>\n",
              "      <td>-4000.0</td>\n",
              "      <td>Kneeing</td>\n",
              "    </tr>\n",
              "  </tbody>\n",
              "</table>\n",
              "</div>\n",
              "      <button class=\"colab-df-convert\" onclick=\"convertToInteractive('df-c1c5f77d-9d50-4bb5-8722-5dff53de2a8a')\"\n",
              "              title=\"Convert this dataframe to an interactive table.\"\n",
              "              style=\"display:none;\">\n",
              "        \n",
              "  <svg xmlns=\"http://www.w3.org/2000/svg\" height=\"24px\"viewBox=\"0 0 24 24\"\n",
              "       width=\"24px\">\n",
              "    <path d=\"M0 0h24v24H0V0z\" fill=\"none\"/>\n",
              "    <path d=\"M18.56 5.44l.94 2.06.94-2.06 2.06-.94-2.06-.94-.94-2.06-.94 2.06-2.06.94zm-11 1L8.5 8.5l.94-2.06 2.06-.94-2.06-.94L8.5 2.5l-.94 2.06-2.06.94zm10 10l.94 2.06.94-2.06 2.06-.94-2.06-.94-.94-2.06-.94 2.06-2.06.94z\"/><path d=\"M17.41 7.96l-1.37-1.37c-.4-.4-.92-.59-1.43-.59-.52 0-1.04.2-1.43.59L10.3 9.45l-7.72 7.72c-.78.78-.78 2.05 0 2.83L4 21.41c.39.39.9.59 1.41.59.51 0 1.02-.2 1.41-.59l7.78-7.78 2.81-2.81c.8-.78.8-2.07 0-2.86zM5.41 20L4 18.59l7.72-7.72 1.47 1.35L5.41 20z\"/>\n",
              "  </svg>\n",
              "      </button>\n",
              "      \n",
              "  <style>\n",
              "    .colab-df-container {\n",
              "      display:flex;\n",
              "      flex-wrap:wrap;\n",
              "      gap: 12px;\n",
              "    }\n",
              "\n",
              "    .colab-df-convert {\n",
              "      background-color: #E8F0FE;\n",
              "      border: none;\n",
              "      border-radius: 50%;\n",
              "      cursor: pointer;\n",
              "      display: none;\n",
              "      fill: #1967D2;\n",
              "      height: 32px;\n",
              "      padding: 0 0 0 0;\n",
              "      width: 32px;\n",
              "    }\n",
              "\n",
              "    .colab-df-convert:hover {\n",
              "      background-color: #E2EBFA;\n",
              "      box-shadow: 0px 1px 2px rgba(60, 64, 67, 0.3), 0px 1px 3px 1px rgba(60, 64, 67, 0.15);\n",
              "      fill: #174EA6;\n",
              "    }\n",
              "\n",
              "    [theme=dark] .colab-df-convert {\n",
              "      background-color: #3B4455;\n",
              "      fill: #D2E3FC;\n",
              "    }\n",
              "\n",
              "    [theme=dark] .colab-df-convert:hover {\n",
              "      background-color: #434B5C;\n",
              "      box-shadow: 0px 1px 3px 1px rgba(0, 0, 0, 0.15);\n",
              "      filter: drop-shadow(0px 1px 2px rgba(0, 0, 0, 0.3));\n",
              "      fill: #FFFFFF;\n",
              "    }\n",
              "  </style>\n",
              "\n",
              "      <script>\n",
              "        const buttonEl =\n",
              "          document.querySelector('#df-c1c5f77d-9d50-4bb5-8722-5dff53de2a8a button.colab-df-convert');\n",
              "        buttonEl.style.display =\n",
              "          google.colab.kernel.accessAllowed ? 'block' : 'none';\n",
              "\n",
              "        async function convertToInteractive(key) {\n",
              "          const element = document.querySelector('#df-c1c5f77d-9d50-4bb5-8722-5dff53de2a8a');\n",
              "          const dataTable =\n",
              "            await google.colab.kernel.invokeFunction('convertToInteractive',\n",
              "                                                     [key], {});\n",
              "          if (!dataTable) return;\n",
              "\n",
              "          const docLinkHtml = 'Like what you see? Visit the ' +\n",
              "            '<a target=\"_blank\" href=https://colab.research.google.com/notebooks/data_table.ipynb>data table notebook</a>'\n",
              "            + ' to learn more about interactive tables.';\n",
              "          element.innerHTML = '';\n",
              "          dataTable['output_type'] = 'display_data';\n",
              "          await google.colab.output.renderOutput(dataTable, element);\n",
              "          const docLink = document.createElement('div');\n",
              "          docLink.innerHTML = docLinkHtml;\n",
              "          element.appendChild(docLink);\n",
              "        }\n",
              "      </script>\n",
              "    </div>\n",
              "  </div>\n",
              "  "
            ]
          },
          "metadata": {},
          "execution_count": 35
        }
      ]
    },
    {
      "cell_type": "markdown",
      "source": [
        "Each cell for ch1-ch8 corresponds to the maximum value of the signal recorded in 1msec"
      ],
      "metadata": {
        "id": "Pq9ifE6Iv4AJ"
      }
    },
    {
      "cell_type": "code",
      "source": [
        "data.info()"
      ],
      "metadata": {
        "colab": {
          "base_uri": "https://localhost:8080/"
        },
        "id": "Sr9NbtfjwcbI",
        "outputId": "5a02a7b4-0864-4e9b-a2b1-ab4ef90f807d"
      },
      "execution_count": null,
      "outputs": [
        {
          "output_type": "stream",
          "name": "stdout",
          "text": [
            "<class 'pandas.core.frame.DataFrame'>\n",
            "Int64Index: 19711 entries, 0 to 999\n",
            "Data columns (total 9 columns):\n",
            " #   Column  Non-Null Count  Dtype  \n",
            "---  ------  --------------  -----  \n",
            " 0   ch1     19711 non-null  float64\n",
            " 1   ch2     19711 non-null  float64\n",
            " 2   ch3     19711 non-null  float64\n",
            " 3   ch4     19711 non-null  float64\n",
            " 4   ch5     19711 non-null  float64\n",
            " 5   ch6     19711 non-null  float64\n",
            " 6   ch7     19711 non-null  float64\n",
            " 7   ch8     19711 non-null  float64\n",
            " 8   Action  19711 non-null  object \n",
            "dtypes: float64(8), object(1)\n",
            "memory usage: 1.5+ MB\n"
          ]
        }
      ]
    },
    {
      "cell_type": "markdown",
      "source": [
        "We have a total of 19711 observations for one subject. Fro simplicity we are considering data from one subject, for more rigorous analysis , data from all 4 subjects should be included."
      ],
      "metadata": {
        "id": "3zX40LMBxElQ"
      }
    },
    {
      "cell_type": "code",
      "source": [
        "data[\"Action\"].value_counts()"
      ],
      "metadata": {
        "colab": {
          "base_uri": "https://localhost:8080/"
        },
        "id": "5tG5MgSpxUZ9",
        "outputId": "fcd37d70-c846-4432-839f-d9b66afeb26e"
      },
      "execution_count": null,
      "outputs": [
        {
          "output_type": "execute_result",
          "data": {
            "text/plain": [
              "Kneeing         1000\n",
              "Hamering        1000\n",
              "Clapping        1000\n",
              "Seating         1000\n",
              "Jumping         1000\n",
              "Waving          1000\n",
              "Headering       1000\n",
              "Walking         1000\n",
              "Running          997\n",
              "Sidekicking      983\n",
              "Bowing           983\n",
              "Frontkicking     982\n",
              "Slapping         979\n",
              "Elbowing         978\n",
              "Hugging          976\n",
              "Standing         973\n",
              "Pushing          968\n",
              "Pulling          966\n",
              "Punching         964\n",
              "Handshaking      962\n",
              "Name: Action, dtype: int64"
            ]
          },
          "metadata": {},
          "execution_count": 38
        }
      ]
    },
    {
      "cell_type": "markdown",
      "source": [
        "### Fairly well balanced data"
      ],
      "metadata": {
        "id": "wUo93SIJxl7D"
      }
    },
    {
      "cell_type": "code",
      "source": [
        "X=data.drop([\"Action\"], axis=1)\n",
        "X"
      ],
      "metadata": {
        "colab": {
          "base_uri": "https://localhost:8080/",
          "height": 424
        },
        "id": "PExwQlLGxqqn",
        "outputId": "199e061b-dc7c-415d-a19a-4108affa4514"
      },
      "execution_count": null,
      "outputs": [
        {
          "output_type": "execute_result",
          "data": {
            "text/plain": [
              "       ch1     ch2    ch3    ch4     ch5     ch6     ch7     ch8\n",
              "0    292.0   647.0  349.0  261.0  4000.0  4000.0  4000.0 -4000.0\n",
              "1    260.0  1256.0  504.0  170.0 -4000.0  4000.0  4000.0  4000.0\n",
              "2    104.0   409.0  764.0  207.0  4000.0  4000.0  4000.0  4000.0\n",
              "3    385.0   786.0  793.0  146.0  4000.0  1033.0  4000.0  4000.0\n",
              "4      8.0  1055.0  215.0  142.0  2569.0 -4000.0  4000.0 -4000.0\n",
              "..     ...     ...    ...    ...     ...     ...     ...     ...\n",
              "995   12.0    24.0  -13.0  207.0 -3573.0    -9.0 -4000.0   766.0\n",
              "996    8.0    19.0   71.0  110.0 -2729.0   119.0 -4000.0   740.0\n",
              "997   31.0    37.0   47.0  113.0  4000.0    62.0 -2369.0    -3.0\n",
              "998    6.0    55.0   22.0   29.0  4000.0   144.0   232.0  -494.0\n",
              "999    7.0    41.0  -22.0   11.0 -4000.0   628.0  2364.0  -521.0\n",
              "\n",
              "[19711 rows x 8 columns]"
            ],
            "text/html": [
              "\n",
              "  <div id=\"df-ca17204a-515f-48b9-9f67-9e9c76bc3b47\">\n",
              "    <div class=\"colab-df-container\">\n",
              "      <div>\n",
              "<style scoped>\n",
              "    .dataframe tbody tr th:only-of-type {\n",
              "        vertical-align: middle;\n",
              "    }\n",
              "\n",
              "    .dataframe tbody tr th {\n",
              "        vertical-align: top;\n",
              "    }\n",
              "\n",
              "    .dataframe thead th {\n",
              "        text-align: right;\n",
              "    }\n",
              "</style>\n",
              "<table border=\"1\" class=\"dataframe\">\n",
              "  <thead>\n",
              "    <tr style=\"text-align: right;\">\n",
              "      <th></th>\n",
              "      <th>ch1</th>\n",
              "      <th>ch2</th>\n",
              "      <th>ch3</th>\n",
              "      <th>ch4</th>\n",
              "      <th>ch5</th>\n",
              "      <th>ch6</th>\n",
              "      <th>ch7</th>\n",
              "      <th>ch8</th>\n",
              "    </tr>\n",
              "  </thead>\n",
              "  <tbody>\n",
              "    <tr>\n",
              "      <th>0</th>\n",
              "      <td>292.0</td>\n",
              "      <td>647.0</td>\n",
              "      <td>349.0</td>\n",
              "      <td>261.0</td>\n",
              "      <td>4000.0</td>\n",
              "      <td>4000.0</td>\n",
              "      <td>4000.0</td>\n",
              "      <td>-4000.0</td>\n",
              "    </tr>\n",
              "    <tr>\n",
              "      <th>1</th>\n",
              "      <td>260.0</td>\n",
              "      <td>1256.0</td>\n",
              "      <td>504.0</td>\n",
              "      <td>170.0</td>\n",
              "      <td>-4000.0</td>\n",
              "      <td>4000.0</td>\n",
              "      <td>4000.0</td>\n",
              "      <td>4000.0</td>\n",
              "    </tr>\n",
              "    <tr>\n",
              "      <th>2</th>\n",
              "      <td>104.0</td>\n",
              "      <td>409.0</td>\n",
              "      <td>764.0</td>\n",
              "      <td>207.0</td>\n",
              "      <td>4000.0</td>\n",
              "      <td>4000.0</td>\n",
              "      <td>4000.0</td>\n",
              "      <td>4000.0</td>\n",
              "    </tr>\n",
              "    <tr>\n",
              "      <th>3</th>\n",
              "      <td>385.0</td>\n",
              "      <td>786.0</td>\n",
              "      <td>793.0</td>\n",
              "      <td>146.0</td>\n",
              "      <td>4000.0</td>\n",
              "      <td>1033.0</td>\n",
              "      <td>4000.0</td>\n",
              "      <td>4000.0</td>\n",
              "    </tr>\n",
              "    <tr>\n",
              "      <th>4</th>\n",
              "      <td>8.0</td>\n",
              "      <td>1055.0</td>\n",
              "      <td>215.0</td>\n",
              "      <td>142.0</td>\n",
              "      <td>2569.0</td>\n",
              "      <td>-4000.0</td>\n",
              "      <td>4000.0</td>\n",
              "      <td>-4000.0</td>\n",
              "    </tr>\n",
              "    <tr>\n",
              "      <th>...</th>\n",
              "      <td>...</td>\n",
              "      <td>...</td>\n",
              "      <td>...</td>\n",
              "      <td>...</td>\n",
              "      <td>...</td>\n",
              "      <td>...</td>\n",
              "      <td>...</td>\n",
              "      <td>...</td>\n",
              "    </tr>\n",
              "    <tr>\n",
              "      <th>995</th>\n",
              "      <td>12.0</td>\n",
              "      <td>24.0</td>\n",
              "      <td>-13.0</td>\n",
              "      <td>207.0</td>\n",
              "      <td>-3573.0</td>\n",
              "      <td>-9.0</td>\n",
              "      <td>-4000.0</td>\n",
              "      <td>766.0</td>\n",
              "    </tr>\n",
              "    <tr>\n",
              "      <th>996</th>\n",
              "      <td>8.0</td>\n",
              "      <td>19.0</td>\n",
              "      <td>71.0</td>\n",
              "      <td>110.0</td>\n",
              "      <td>-2729.0</td>\n",
              "      <td>119.0</td>\n",
              "      <td>-4000.0</td>\n",
              "      <td>740.0</td>\n",
              "    </tr>\n",
              "    <tr>\n",
              "      <th>997</th>\n",
              "      <td>31.0</td>\n",
              "      <td>37.0</td>\n",
              "      <td>47.0</td>\n",
              "      <td>113.0</td>\n",
              "      <td>4000.0</td>\n",
              "      <td>62.0</td>\n",
              "      <td>-2369.0</td>\n",
              "      <td>-3.0</td>\n",
              "    </tr>\n",
              "    <tr>\n",
              "      <th>998</th>\n",
              "      <td>6.0</td>\n",
              "      <td>55.0</td>\n",
              "      <td>22.0</td>\n",
              "      <td>29.0</td>\n",
              "      <td>4000.0</td>\n",
              "      <td>144.0</td>\n",
              "      <td>232.0</td>\n",
              "      <td>-494.0</td>\n",
              "    </tr>\n",
              "    <tr>\n",
              "      <th>999</th>\n",
              "      <td>7.0</td>\n",
              "      <td>41.0</td>\n",
              "      <td>-22.0</td>\n",
              "      <td>11.0</td>\n",
              "      <td>-4000.0</td>\n",
              "      <td>628.0</td>\n",
              "      <td>2364.0</td>\n",
              "      <td>-521.0</td>\n",
              "    </tr>\n",
              "  </tbody>\n",
              "</table>\n",
              "<p>19711 rows × 8 columns</p>\n",
              "</div>\n",
              "      <button class=\"colab-df-convert\" onclick=\"convertToInteractive('df-ca17204a-515f-48b9-9f67-9e9c76bc3b47')\"\n",
              "              title=\"Convert this dataframe to an interactive table.\"\n",
              "              style=\"display:none;\">\n",
              "        \n",
              "  <svg xmlns=\"http://www.w3.org/2000/svg\" height=\"24px\"viewBox=\"0 0 24 24\"\n",
              "       width=\"24px\">\n",
              "    <path d=\"M0 0h24v24H0V0z\" fill=\"none\"/>\n",
              "    <path d=\"M18.56 5.44l.94 2.06.94-2.06 2.06-.94-2.06-.94-.94-2.06-.94 2.06-2.06.94zm-11 1L8.5 8.5l.94-2.06 2.06-.94-2.06-.94L8.5 2.5l-.94 2.06-2.06.94zm10 10l.94 2.06.94-2.06 2.06-.94-2.06-.94-.94-2.06-.94 2.06-2.06.94z\"/><path d=\"M17.41 7.96l-1.37-1.37c-.4-.4-.92-.59-1.43-.59-.52 0-1.04.2-1.43.59L10.3 9.45l-7.72 7.72c-.78.78-.78 2.05 0 2.83L4 21.41c.39.39.9.59 1.41.59.51 0 1.02-.2 1.41-.59l7.78-7.78 2.81-2.81c.8-.78.8-2.07 0-2.86zM5.41 20L4 18.59l7.72-7.72 1.47 1.35L5.41 20z\"/>\n",
              "  </svg>\n",
              "      </button>\n",
              "      \n",
              "  <style>\n",
              "    .colab-df-container {\n",
              "      display:flex;\n",
              "      flex-wrap:wrap;\n",
              "      gap: 12px;\n",
              "    }\n",
              "\n",
              "    .colab-df-convert {\n",
              "      background-color: #E8F0FE;\n",
              "      border: none;\n",
              "      border-radius: 50%;\n",
              "      cursor: pointer;\n",
              "      display: none;\n",
              "      fill: #1967D2;\n",
              "      height: 32px;\n",
              "      padding: 0 0 0 0;\n",
              "      width: 32px;\n",
              "    }\n",
              "\n",
              "    .colab-df-convert:hover {\n",
              "      background-color: #E2EBFA;\n",
              "      box-shadow: 0px 1px 2px rgba(60, 64, 67, 0.3), 0px 1px 3px 1px rgba(60, 64, 67, 0.15);\n",
              "      fill: #174EA6;\n",
              "    }\n",
              "\n",
              "    [theme=dark] .colab-df-convert {\n",
              "      background-color: #3B4455;\n",
              "      fill: #D2E3FC;\n",
              "    }\n",
              "\n",
              "    [theme=dark] .colab-df-convert:hover {\n",
              "      background-color: #434B5C;\n",
              "      box-shadow: 0px 1px 3px 1px rgba(0, 0, 0, 0.15);\n",
              "      filter: drop-shadow(0px 1px 2px rgba(0, 0, 0, 0.3));\n",
              "      fill: #FFFFFF;\n",
              "    }\n",
              "  </style>\n",
              "\n",
              "      <script>\n",
              "        const buttonEl =\n",
              "          document.querySelector('#df-ca17204a-515f-48b9-9f67-9e9c76bc3b47 button.colab-df-convert');\n",
              "        buttonEl.style.display =\n",
              "          google.colab.kernel.accessAllowed ? 'block' : 'none';\n",
              "\n",
              "        async function convertToInteractive(key) {\n",
              "          const element = document.querySelector('#df-ca17204a-515f-48b9-9f67-9e9c76bc3b47');\n",
              "          const dataTable =\n",
              "            await google.colab.kernel.invokeFunction('convertToInteractive',\n",
              "                                                     [key], {});\n",
              "          if (!dataTable) return;\n",
              "\n",
              "          const docLinkHtml = 'Like what you see? Visit the ' +\n",
              "            '<a target=\"_blank\" href=https://colab.research.google.com/notebooks/data_table.ipynb>data table notebook</a>'\n",
              "            + ' to learn more about interactive tables.';\n",
              "          element.innerHTML = '';\n",
              "          dataTable['output_type'] = 'display_data';\n",
              "          await google.colab.output.renderOutput(dataTable, element);\n",
              "          const docLink = document.createElement('div');\n",
              "          docLink.innerHTML = docLinkHtml;\n",
              "          element.appendChild(docLink);\n",
              "        }\n",
              "      </script>\n",
              "    </div>\n",
              "  </div>\n",
              "  "
            ]
          },
          "metadata": {},
          "execution_count": 41
        }
      ]
    },
    {
      "cell_type": "code",
      "source": [
        "Y=data[\"Action\"]\n",
        "Y"
      ],
      "metadata": {
        "colab": {
          "base_uri": "https://localhost:8080/"
        },
        "id": "h9appoE5yCOI",
        "outputId": "9961670b-3bc3-4a64-b5d1-5025608edb63"
      },
      "execution_count": null,
      "outputs": [
        {
          "output_type": "execute_result",
          "data": {
            "text/plain": [
              "0      Kneeing\n",
              "1      Kneeing\n",
              "2      Kneeing\n",
              "3      Kneeing\n",
              "4      Kneeing\n",
              "        ...   \n",
              "995    Walking\n",
              "996    Walking\n",
              "997    Walking\n",
              "998    Walking\n",
              "999    Walking\n",
              "Name: Action, Length: 19711, dtype: object"
            ]
          },
          "metadata": {},
          "execution_count": 43
        }
      ]
    },
    {
      "cell_type": "code",
      "source": [
        "## Label encoding the target variable\n",
        "\n",
        "# Label encoding\n",
        "Y = Y.map(actions) # actions is the dictionary we created earlier.\n",
        "Y.head()\n",
        "print(Y.value_counts())"
      ],
      "metadata": {
        "colab": {
          "base_uri": "https://localhost:8080/"
        },
        "id": "wz2ZBOr3yKZt",
        "outputId": "8877bd3c-d21e-4d81-ec78-09be0a405285"
      },
      "execution_count": null,
      "outputs": [
        {
          "output_type": "stream",
          "name": "stdout",
          "text": [
            "0     1000\n",
            "7     1000\n",
            "17    1000\n",
            "16    1000\n",
            "15    1000\n",
            "12    1000\n",
            "1     1000\n",
            "19    1000\n",
            "10     997\n",
            "2      983\n",
            "18     983\n",
            "4      982\n",
            "9      979\n",
            "5      978\n",
            "11     976\n",
            "13     973\n",
            "3      968\n",
            "8      966\n",
            "6      964\n",
            "14     962\n",
            "Name: Action, dtype: int64\n"
          ]
        }
      ]
    },
    {
      "cell_type": "code",
      "source": [
        "### Domain Specified Pre-Processing- we will take the rectified EMG signals as we dont care about the negative spikes.\n",
        "\n",
        "X=abs(X)\n",
        "X.head()"
      ],
      "metadata": {
        "colab": {
          "base_uri": "https://localhost:8080/",
          "height": 206
        },
        "id": "KHssagvI3O12",
        "outputId": "2de4880e-2267-4657-d438-9bae2d0f9d80"
      },
      "execution_count": null,
      "outputs": [
        {
          "output_type": "execute_result",
          "data": {
            "text/plain": [
              "     ch1     ch2    ch3    ch4     ch5     ch6     ch7     ch8\n",
              "0  292.0   647.0  349.0  261.0  4000.0  4000.0  4000.0  4000.0\n",
              "1  260.0  1256.0  504.0  170.0  4000.0  4000.0  4000.0  4000.0\n",
              "2  104.0   409.0  764.0  207.0  4000.0  4000.0  4000.0  4000.0\n",
              "3  385.0   786.0  793.0  146.0  4000.0  1033.0  4000.0  4000.0\n",
              "4    8.0  1055.0  215.0  142.0  2569.0  4000.0  4000.0  4000.0"
            ],
            "text/html": [
              "\n",
              "  <div id=\"df-304b045f-3b00-416f-ae1c-bb5d045996a8\">\n",
              "    <div class=\"colab-df-container\">\n",
              "      <div>\n",
              "<style scoped>\n",
              "    .dataframe tbody tr th:only-of-type {\n",
              "        vertical-align: middle;\n",
              "    }\n",
              "\n",
              "    .dataframe tbody tr th {\n",
              "        vertical-align: top;\n",
              "    }\n",
              "\n",
              "    .dataframe thead th {\n",
              "        text-align: right;\n",
              "    }\n",
              "</style>\n",
              "<table border=\"1\" class=\"dataframe\">\n",
              "  <thead>\n",
              "    <tr style=\"text-align: right;\">\n",
              "      <th></th>\n",
              "      <th>ch1</th>\n",
              "      <th>ch2</th>\n",
              "      <th>ch3</th>\n",
              "      <th>ch4</th>\n",
              "      <th>ch5</th>\n",
              "      <th>ch6</th>\n",
              "      <th>ch7</th>\n",
              "      <th>ch8</th>\n",
              "    </tr>\n",
              "  </thead>\n",
              "  <tbody>\n",
              "    <tr>\n",
              "      <th>0</th>\n",
              "      <td>292.0</td>\n",
              "      <td>647.0</td>\n",
              "      <td>349.0</td>\n",
              "      <td>261.0</td>\n",
              "      <td>4000.0</td>\n",
              "      <td>4000.0</td>\n",
              "      <td>4000.0</td>\n",
              "      <td>4000.0</td>\n",
              "    </tr>\n",
              "    <tr>\n",
              "      <th>1</th>\n",
              "      <td>260.0</td>\n",
              "      <td>1256.0</td>\n",
              "      <td>504.0</td>\n",
              "      <td>170.0</td>\n",
              "      <td>4000.0</td>\n",
              "      <td>4000.0</td>\n",
              "      <td>4000.0</td>\n",
              "      <td>4000.0</td>\n",
              "    </tr>\n",
              "    <tr>\n",
              "      <th>2</th>\n",
              "      <td>104.0</td>\n",
              "      <td>409.0</td>\n",
              "      <td>764.0</td>\n",
              "      <td>207.0</td>\n",
              "      <td>4000.0</td>\n",
              "      <td>4000.0</td>\n",
              "      <td>4000.0</td>\n",
              "      <td>4000.0</td>\n",
              "    </tr>\n",
              "    <tr>\n",
              "      <th>3</th>\n",
              "      <td>385.0</td>\n",
              "      <td>786.0</td>\n",
              "      <td>793.0</td>\n",
              "      <td>146.0</td>\n",
              "      <td>4000.0</td>\n",
              "      <td>1033.0</td>\n",
              "      <td>4000.0</td>\n",
              "      <td>4000.0</td>\n",
              "    </tr>\n",
              "    <tr>\n",
              "      <th>4</th>\n",
              "      <td>8.0</td>\n",
              "      <td>1055.0</td>\n",
              "      <td>215.0</td>\n",
              "      <td>142.0</td>\n",
              "      <td>2569.0</td>\n",
              "      <td>4000.0</td>\n",
              "      <td>4000.0</td>\n",
              "      <td>4000.0</td>\n",
              "    </tr>\n",
              "  </tbody>\n",
              "</table>\n",
              "</div>\n",
              "      <button class=\"colab-df-convert\" onclick=\"convertToInteractive('df-304b045f-3b00-416f-ae1c-bb5d045996a8')\"\n",
              "              title=\"Convert this dataframe to an interactive table.\"\n",
              "              style=\"display:none;\">\n",
              "        \n",
              "  <svg xmlns=\"http://www.w3.org/2000/svg\" height=\"24px\"viewBox=\"0 0 24 24\"\n",
              "       width=\"24px\">\n",
              "    <path d=\"M0 0h24v24H0V0z\" fill=\"none\"/>\n",
              "    <path d=\"M18.56 5.44l.94 2.06.94-2.06 2.06-.94-2.06-.94-.94-2.06-.94 2.06-2.06.94zm-11 1L8.5 8.5l.94-2.06 2.06-.94-2.06-.94L8.5 2.5l-.94 2.06-2.06.94zm10 10l.94 2.06.94-2.06 2.06-.94-2.06-.94-.94-2.06-.94 2.06-2.06.94z\"/><path d=\"M17.41 7.96l-1.37-1.37c-.4-.4-.92-.59-1.43-.59-.52 0-1.04.2-1.43.59L10.3 9.45l-7.72 7.72c-.78.78-.78 2.05 0 2.83L4 21.41c.39.39.9.59 1.41.59.51 0 1.02-.2 1.41-.59l7.78-7.78 2.81-2.81c.8-.78.8-2.07 0-2.86zM5.41 20L4 18.59l7.72-7.72 1.47 1.35L5.41 20z\"/>\n",
              "  </svg>\n",
              "      </button>\n",
              "      \n",
              "  <style>\n",
              "    .colab-df-container {\n",
              "      display:flex;\n",
              "      flex-wrap:wrap;\n",
              "      gap: 12px;\n",
              "    }\n",
              "\n",
              "    .colab-df-convert {\n",
              "      background-color: #E8F0FE;\n",
              "      border: none;\n",
              "      border-radius: 50%;\n",
              "      cursor: pointer;\n",
              "      display: none;\n",
              "      fill: #1967D2;\n",
              "      height: 32px;\n",
              "      padding: 0 0 0 0;\n",
              "      width: 32px;\n",
              "    }\n",
              "\n",
              "    .colab-df-convert:hover {\n",
              "      background-color: #E2EBFA;\n",
              "      box-shadow: 0px 1px 2px rgba(60, 64, 67, 0.3), 0px 1px 3px 1px rgba(60, 64, 67, 0.15);\n",
              "      fill: #174EA6;\n",
              "    }\n",
              "\n",
              "    [theme=dark] .colab-df-convert {\n",
              "      background-color: #3B4455;\n",
              "      fill: #D2E3FC;\n",
              "    }\n",
              "\n",
              "    [theme=dark] .colab-df-convert:hover {\n",
              "      background-color: #434B5C;\n",
              "      box-shadow: 0px 1px 3px 1px rgba(0, 0, 0, 0.15);\n",
              "      filter: drop-shadow(0px 1px 2px rgba(0, 0, 0, 0.3));\n",
              "      fill: #FFFFFF;\n",
              "    }\n",
              "  </style>\n",
              "\n",
              "      <script>\n",
              "        const buttonEl =\n",
              "          document.querySelector('#df-304b045f-3b00-416f-ae1c-bb5d045996a8 button.colab-df-convert');\n",
              "        buttonEl.style.display =\n",
              "          google.colab.kernel.accessAllowed ? 'block' : 'none';\n",
              "\n",
              "        async function convertToInteractive(key) {\n",
              "          const element = document.querySelector('#df-304b045f-3b00-416f-ae1c-bb5d045996a8');\n",
              "          const dataTable =\n",
              "            await google.colab.kernel.invokeFunction('convertToInteractive',\n",
              "                                                     [key], {});\n",
              "          if (!dataTable) return;\n",
              "\n",
              "          const docLinkHtml = 'Like what you see? Visit the ' +\n",
              "            '<a target=\"_blank\" href=https://colab.research.google.com/notebooks/data_table.ipynb>data table notebook</a>'\n",
              "            + ' to learn more about interactive tables.';\n",
              "          element.innerHTML = '';\n",
              "          dataTable['output_type'] = 'display_data';\n",
              "          await google.colab.output.renderOutput(dataTable, element);\n",
              "          const docLink = document.createElement('div');\n",
              "          docLink.innerHTML = docLinkHtml;\n",
              "          element.appendChild(docLink);\n",
              "        }\n",
              "      </script>\n",
              "    </div>\n",
              "  </div>\n",
              "  "
            ]
          },
          "metadata": {},
          "execution_count": 45
        }
      ]
    },
    {
      "cell_type": "markdown",
      "source": [
        "Fortunately in bio-medical world , and in our dataset as well, the data is numeric, so we don't need to perform any categorical encoding."
      ],
      "metadata": {
        "id": "1p_VQC7S36GI"
      }
    },
    {
      "cell_type": "code",
      "source": [
        "# Train, test split\n",
        "\n",
        "from sklearn.model_selection import train_test_split\n",
        "\n",
        "X = np.array(X.values.tolist())\n",
        "Y = np.array(Y.values.tolist())\n",
        "\n",
        "X_train, X_test, Y_train, Y_test = train_test_split(X, Y, test_size = 0.2, shuffle = True) # 80-20 split\n",
        "print(f\"Sizes of the sets created are:\\nTraining set:{X_train.shape[0]}\\nTest set:{X_test.shape[0]}\")"
      ],
      "metadata": {
        "colab": {
          "base_uri": "https://localhost:8080/"
        },
        "id": "a1h2c57fCrqS",
        "outputId": "09cfcfc2-8e23-4709-e292-674d993413e2"
      },
      "execution_count": null,
      "outputs": [
        {
          "output_type": "stream",
          "name": "stdout",
          "text": [
            "Sizes of the sets created are:\n",
            "Training set:15768\n",
            "Test set:3943\n"
          ]
        }
      ]
    },
    {
      "cell_type": "markdown",
      "source": [
        "## Training the model using cross validation"
      ],
      "metadata": {
        "id": "_R61p1NwCVNT"
      }
    },
    {
      "cell_type": "code",
      "source": [
        "# We train a simple decision tree using 5-fold cross validation and Grid Search for best hyper-param selection\n",
        "from sklearn.tree import DecisionTreeClassifier as DTC\n",
        "from sklearn import tree\n",
        "from sklearn.model_selection import GridSearchCV\n",
        "\n",
        "params = {\n",
        "    \"max_depth\" : [3, 5, 7],\n",
        "    \"max_leaf_nodes\" : [15, 20, 25]\n",
        "}\n",
        "\n",
        "model1 = DTC()\n",
        "clf = GridSearchCV(model1, params, scoring = \"accuracy\", cv=5)\n",
        "\n",
        "clf.fit(X_train, Y_train)"
      ],
      "metadata": {
        "colab": {
          "base_uri": "https://localhost:8080/"
        },
        "id": "WTCayid64MGR",
        "outputId": "49863f38-3f12-438d-8161-cd834d91fed9"
      },
      "execution_count": null,
      "outputs": [
        {
          "output_type": "execute_result",
          "data": {
            "text/plain": [
              "GridSearchCV(cv=5, estimator=DecisionTreeClassifier(),\n",
              "             param_grid={'max_depth': [3, 5, 7],\n",
              "                         'max_leaf_nodes': [15, 20, 25]},\n",
              "             scoring='accuracy')"
            ]
          },
          "metadata": {},
          "execution_count": 50
        }
      ]
    },
    {
      "cell_type": "markdown",
      "source": [
        "## Displaying the grid-search results"
      ],
      "metadata": {
        "id": "CFqKRm2DDHz1"
      }
    },
    {
      "cell_type": "code",
      "source": [
        "res = clf.cv_results_\n",
        "\n",
        "for i in range(len(res[\"params\"])):\n",
        "  print(f\"Parameters:{res['params'][i]} Mean_score: {res['mean_test_score'][i]} Rank: {res['rank_test_score'][i]}\")"
      ],
      "metadata": {
        "colab": {
          "base_uri": "https://localhost:8080/"
        },
        "id": "Vk_ZdnkJDBCw",
        "outputId": "a95ed01a-7297-4de3-bbfc-4e51423261d2"
      },
      "execution_count": null,
      "outputs": [
        {
          "output_type": "stream",
          "name": "stdout",
          "text": [
            "Parameters:{'max_depth': 3, 'max_leaf_nodes': 15} Mean_score: 0.32274219819837213 Rank: 7\n",
            "Parameters:{'max_depth': 3, 'max_leaf_nodes': 20} Mean_score: 0.32274219819837213 Rank: 7\n",
            "Parameters:{'max_depth': 3, 'max_leaf_nodes': 25} Mean_score: 0.32274219819837213 Rank: 7\n",
            "Parameters:{'max_depth': 5, 'max_leaf_nodes': 15} Mean_score: 0.4004309692070903 Rank: 5\n",
            "Parameters:{'max_depth': 5, 'max_leaf_nodes': 20} Mean_score: 0.4325839790631302 Rank: 3\n",
            "Parameters:{'max_depth': 5, 'max_leaf_nodes': 25} Mean_score: 0.44330280207413864 Rank: 1\n",
            "Parameters:{'max_depth': 7, 'max_leaf_nodes': 15} Mean_score: 0.4004309692070903 Rank: 5\n",
            "Parameters:{'max_depth': 7, 'max_leaf_nodes': 20} Mean_score: 0.4296033148569037 Rank: 4\n",
            "Parameters:{'max_depth': 7, 'max_leaf_nodes': 25} Mean_score: 0.43911639346207504 Rank: 2\n"
          ]
        }
      ]
    },
    {
      "cell_type": "code",
      "source": [
        "print(clf.best_estimator_)"
      ],
      "metadata": {
        "colab": {
          "base_uri": "https://localhost:8080/"
        },
        "id": "Wk95fjutFdhM",
        "outputId": "62826ebb-5888-414a-c037-91fc8441e86c"
      },
      "execution_count": null,
      "outputs": [
        {
          "output_type": "stream",
          "name": "stdout",
          "text": [
            "DecisionTreeClassifier(max_depth=5, max_leaf_nodes=25)\n"
          ]
        }
      ]
    },
    {
      "cell_type": "code",
      "source": [
        "# Learning Curves in sklearn\n",
        "\n",
        "from sklearn.model_selection import learning_curve\n",
        "\n",
        "def plot_learning_curve(estimator, X, Y, title):\n",
        "\n",
        "  train_sizes, train_scores, test_scores, _, _ = learning_curve(estimator,\n",
        "                                                                        X,\n",
        "                                                                        Y,\n",
        "                                                                        return_times=True\n",
        "                                                                        )\n",
        "\n",
        "  fig, axes = plt.subplots(1, 1, figsize = (10, 5))\n",
        "\n",
        "  axes.set_title(title)\n",
        "  axes.plot\n",
        "  axes.set_xlabel(\"Training examples\")\n",
        "  axes.set_ylabel(\"Score\")\n",
        "\n",
        "\n",
        "  train_scores_mean = np.mean(train_scores, axis=1)\n",
        "  train_scores_std = np.std(train_scores, axis=1)\n",
        "  test_scores_mean = np.mean(test_scores, axis=1)\n",
        "  test_scores_std = np.std(test_scores, axis=1)\n",
        "\n",
        "  # Plot learning curve\n",
        "  axes.grid()\n",
        "  axes.fill_between(\n",
        "      train_sizes,\n",
        "      train_scores_mean - train_scores_std,\n",
        "      train_scores_mean + train_scores_std,\n",
        "      alpha=0.1,\n",
        "      color=\"r\",\n",
        "  )\n",
        "  axes.fill_between(\n",
        "      train_sizes,\n",
        "      test_scores_mean - test_scores_std,\n",
        "      test_scores_mean + test_scores_std,\n",
        "      alpha=0.1,\n",
        "      color=\"g\",\n",
        "  )\n",
        "  axes.plot(\n",
        "      train_sizes, train_scores_mean, \"o-\", color=\"r\", label=\"Training score\"\n",
        "  )\n",
        "  axes.plot(\n",
        "      train_sizes, test_scores_mean, \"o-\", color=\"g\", label=\"Cross-validation score\"\n",
        "  )\n",
        "  axes.legend(loc=\"best\")\n",
        "\n",
        "  plt.show()"
      ],
      "metadata": {
        "id": "Zd1hYLmEFqBn"
      },
      "execution_count": null,
      "outputs": []
    },
    {
      "cell_type": "code",
      "source": [
        "model1 = clf.best_estimator_\n",
        "\n",
        "model1.fit(X_train, Y_train)\n",
        "\n",
        "plot_learning_curve(model1, X_train, Y_train, \"Decision Trees\")\n",
        "\n",
        "print(model1.score(X_train, Y_train))\n",
        "\n",
        "# more data could help as CV-score is improving as datset size increases."
      ],
      "metadata": {
        "colab": {
          "base_uri": "https://localhost:8080/",
          "height": 368
        },
        "id": "yRLgrDYHJ-w-",
        "outputId": "09a3e2ca-0574-4794-8294-122f80361132"
      },
      "execution_count": null,
      "outputs": [
        {
          "output_type": "display_data",
          "data": {
            "text/plain": [
              "<Figure size 720x360 with 1 Axes>"
            ],
            "image/png": "[encoded data removed]"
          },
          "metadata": {
            "needs_background": "light"
          }
        },
        {
          "output_type": "stream",
          "name": "stdout",
          "text": [
            "0.44685438863521054\n"
          ]
        }
      ]
    },
    {
      "cell_type": "markdown",
      "source": [
        "### Accuracy of a simple decision tree classifier is 44%."
      ],
      "metadata": {
        "id": "z4uR52qIdQuo"
      }
    },
    {
      "cell_type": "markdown",
      "source": [
        "### When the data size is small the model overfits and we see big difference between the training score and cv score. As training samples increases, the training and cross validations score curves tend to converge."
      ],
      "metadata": {
        "id": "MkZaczH9KkRv"
      }
    },
    {
      "cell_type": "code",
      "source": [
        "# plot the decision tree\n",
        "from sklearn import tree\n",
        "\n",
        "plt.figure(figsize=(12,12))  # set plot size (denoted in inches)\n",
        "tree.plot_tree(model1, fontsize=10)\n",
        "plt.show()"
      ],
      "metadata": {
        "colab": {
          "base_uri": "https://localhost:8080/",
          "height": 683
        },
        "id": "vTlqvcqELic-",
        "outputId": "4b97a634-66cd-43e8-acf2-06415b3e9601"
      },
      "execution_count": null,
      "outputs": [
        {
          "output_type": "display_data",
          "data": {
            "text/plain": [
              "<Figure size 864x864 with 1 Axes>"
            ],
            "image/png": "[encoded data removed]"
          },
          "metadata": {
            "needs_background": "light"
          }
        }
      ]
    },
    {
      "cell_type": "code",
      "source": [
        "# Xgboost\n",
        "from xgboost import XGBClassifier\n",
        "from sklearn.model_selection import RandomizedSearchCV, GridSearchCV\n",
        "from sklearn.model_selection import StratifiedKFold  #StratifiedKFold is a variation of k-fold which returns stratified folds: each set contains \n",
        "#approximately the same percentage of samples of each target class as the complete set.Our dataset has balanced classes, so not useful.\n",
        "import datetime as dt\n",
        "\n",
        "params = {\n",
        "        'learning_rate': [0.1, 0.5, 0.8],   # shrinkage coefficient - \"v\" [0,1]\n",
        "        'subsample': [0.6, 0.8, 1.0],     # concept of bagging in xgboost- row sampling\n",
        "        'colsample_bytree': [0.6, 0.8, 1.0],\n",
        "        'max_depth': [3, 4, 5]\n",
        "        }\n",
        "\n",
        "xgb = XGBClassifier(n_estimators=100, objective='multi:softmax', num_class=20, silent=False) #100 base learners, for multiclass- log loss does not work. need softmax\n",
        "\n",
        "\n"
      ],
      "metadata": {
        "id": "aDoZBR6rNn5q"
      },
      "execution_count": null,
      "outputs": []
    },
    {
      "cell_type": "code",
      "source": [
        "folds = 3\n",
        "\n",
        "skf = StratifiedKFold(n_splits=folds, shuffle = True, random_state = 1001)\n",
        "\n",
        "random_search = RandomizedSearchCV(xgb, param_distributions=params, n_iter=10, scoring='accuracy', n_jobs=4, cv=skf.split(X_train,Y_train), verbose=3, random_state=1001 )\n",
        "\n",
        "# number of iterations=10, n_jobs=4= it will try to distribute it across 4 cores\n",
        "\n",
        "start = dt.datetime.now()\n",
        "random_search.fit(X_train, Y_train)\n",
        "end = dt.datetime.now()"
      ],
      "metadata": {
        "colab": {
          "base_uri": "https://localhost:8080/"
        },
        "id": "Jivhfrj9UDge",
        "outputId": "e8d4d546-a0a3-4b41-b993-d5a7c10ea859"
      },
      "execution_count": null,
      "outputs": [
        {
          "output_type": "stream",
          "name": "stdout",
          "text": [
            "Fitting 3 folds for each of 10 candidates, totalling 30 fits\n"
          ]
        }
      ]
    },
    {
      "cell_type": "code",
      "source": [
        "print('\\n Best hyperparameters:')\n",
        "print(random_search.best_params_)"
      ],
      "metadata": {
        "colab": {
          "base_uri": "https://localhost:8080/"
        },
        "id": "Tt3EMGRwZN1D",
        "outputId": "dddd1f12-06df-4222-8e50-65b8c0944418"
      },
      "execution_count": null,
      "outputs": [
        {
          "output_type": "stream",
          "name": "stdout",
          "text": [
            "\n",
            " Best hyperparameters:\n",
            "{'subsample': 0.6, 'max_depth': 3, 'learning_rate': 0.1, 'colsample_bytree': 1.0}\n"
          ]
        }
      ]
    },
    {
      "cell_type": "markdown",
      "source": [
        "### Training the classifier using the best parameters on the complete training data"
      ],
      "metadata": {
        "id": "Di_4s6yGZYXQ"
      }
    },
    {
      "cell_type": "code",
      "source": [
        "best_xgb = XGBClassifier(n_estimators=100, objective='multi:softmax', num_class=20, subsample=0.6, max_depth=3, learning_rate=0.1, colsample_bytree=1.0, silent=True)\n",
        "best_xgb.fit(X_train, Y_train)"
      ],
      "metadata": {
        "colab": {
          "base_uri": "https://localhost:8080/"
        },
        "id": "exXw_RY1ZW6K",
        "outputId": "79281fcb-39d4-4057-ddda-d1fbb12cbad0"
      },
      "execution_count": null,
      "outputs": [
        {
          "output_type": "execute_result",
          "data": {
            "text/plain": [
              "XGBClassifier(colsample_bytree=1.0, num_class=20, objective='multi:softprob',\n",
              "              silent=True, subsample=0.6)"
            ]
          },
          "metadata": {},
          "execution_count": 66
        }
      ]
    },
    {
      "cell_type": "code",
      "source": [
        "print(f\"Time taken for training : {end - start}\\nTraining accuracy:{best_xgb.score(X_train, Y_train)}\\nTest Accuracy: {best_xgb.score(X_test, Y_test)}\")"
      ],
      "metadata": {
        "colab": {
          "base_uri": "https://localhost:8080/"
        },
        "id": "9emvvFx6ZdBj",
        "outputId": "89cf5d07-73a4-4bce-a97f-37abf33fd570"
      },
      "execution_count": null,
      "outputs": [
        {
          "output_type": "stream",
          "name": "stdout",
          "text": [
            "Time taken for training : 0:05:36.779446\n",
            "Training accuracy:0.6752283105022832\n",
            "Test Accuracy: 0.6145067207709866\n"
          ]
        }
      ]
    },
    {
      "cell_type": "markdown",
      "source": [
        "### We observe that by using the XGBoost library our model accuracy imporved from 44% to 61.4%"
      ],
      "metadata": {
        "id": "oXrCDRVLdGNx"
      }
    },
    {
      "cell_type": "markdown",
      "source": [
        "### Visualizing the Feature Importances\n",
        "\n",
        "If we have 100 base learners, we calculate the feature importance of feature \n",
        "f(i) in each of the base learners and take average of the value."
      ],
      "metadata": {
        "id": "IvBdyDpBaRgw"
      }
    },
    {
      "cell_type": "code",
      "source": [
        "print(best_xgb.feature_importances_)\n",
        "\n",
        "plt.bar(range(len(best_xgb.feature_importances_)), best_xgb.feature_importances_)\n",
        "plt.show()"
      ],
      "metadata": {
        "colab": {
          "base_uri": "https://localhost:8080/",
          "height": 301
        },
        "id": "O4KELSZcaNDK",
        "outputId": "90ee0f18-b8c1-4e3b-9d5e-22978aad3902"
      },
      "execution_count": null,
      "outputs": [
        {
          "output_type": "stream",
          "name": "stdout",
          "text": [
            "[0.13511088 0.07006846 0.15971653 0.08302426 0.19007535 0.13316596\n",
            " 0.12077375 0.10806489]\n"
          ]
        },
        {
          "output_type": "display_data",
          "data": {
            "text/plain": [
              "<Figure size 432x288 with 1 Axes>"
            ],
            "image/png": "[encoded data removed]"
          },
          "metadata": {
            "needs_background": "light"
          }
        }
      ]
    },
    {
      "cell_type": "markdown",
      "source": [
        "### We find that the electrode connected to the right thigh was the most useful in our model's training. Since most people are right handed, it might make more logical sense."
      ],
      "metadata": {
        "id": "ufAJL8axa0v6"
      }
    },
    {
      "cell_type": "markdown",
      "source": [
        "### Domain specific ideas to improve the results: Average data across time- Smoothing operation can be done after the Max- we can calculate the moving average over the sliding window.\n",
        "### Source: https://www.researchgate.net/figure/EMG-signal-process-recommended-Green-The-raw-signal-no-treatment-was-applied-until_fig2_258344784"
      ],
      "metadata": {
        "id": "NLYkF0xCcm3T"
      }
    }
  ]
}